{
 "cells": [
  {
   "attachments": {},
   "cell_type": "markdown",
   "metadata": {},
   "source": [
    "# Model Building"
   ]
  },
  {
   "attachments": {},
   "cell_type": "markdown",
   "metadata": {},
   "source": [
    "## Attaching Resources"
   ]
  },
  {
   "attachments": {},
   "cell_type": "markdown",
   "metadata": {},
   "source": [
    "### Importing Necessary Libraries"
   ]
  },
  {
   "cell_type": "code",
   "execution_count": 1,
   "metadata": {},
   "outputs": [],
   "source": [
    "import numpy as np\n",
    "import pandas as pd\n",
    "import matplotlib.pyplot as plt\n",
    "import seaborn as sns\n",
    "import statsmodels.formula.api as smf\n",
    "from sklearn.neighbors import KNeighborsRegressor\n",
    "from sklearn.tree import DecisionTreeRegressor\n",
    "from sklearn.ensemble import AdaBoostRegressor ,RandomForestRegressor,GradientBoostingRegressor,VotingRegressor,StackingRegressor, BaggingRegressor\n",
    "import pickle\n",
    "\n",
    "from sklearn.metrics import r2_score, mean_absolute_error\n",
    "from sklearn.model_selection import GridSearchCV\n",
    "\n",
    "import warnings\n",
    "\n",
    "warnings.filterwarnings('ignore')\n",
    "plt.rcParams['figure.figsize'] = (15,8)\n",
    "plt.rcParams['figure.dpi'] = 250\n",
    "sns.set_style(style='darkgrid')\n",
    "plt.tight_layout()\n",
    "%matplotlib inline"
   ]
  },
  {
   "attachments": {},
   "cell_type": "markdown",
   "metadata": {},
   "source": [
    "### Adding Dataset"
   ]
  },
  {
   "cell_type": "code",
   "execution_count": 2,
   "metadata": {},
   "outputs": [
    {
     "data": {
      "text/html": [
       "<div>\n",
       "<style scoped>\n",
       "    .dataframe tbody tr th:only-of-type {\n",
       "        vertical-align: middle;\n",
       "    }\n",
       "\n",
       "    .dataframe tbody tr th {\n",
       "        vertical-align: top;\n",
       "    }\n",
       "\n",
       "    .dataframe thead th {\n",
       "        text-align: right;\n",
       "    }\n",
       "</style>\n",
       "<table border=\"1\" class=\"dataframe\">\n",
       "  <thead>\n",
       "    <tr style=\"text-align: right;\">\n",
       "      <th></th>\n",
       "      <th>pc0</th>\n",
       "      <th>pc1</th>\n",
       "      <th>pc2</th>\n",
       "      <th>pc3</th>\n",
       "      <th>pc4</th>\n",
       "      <th>pc5</th>\n",
       "      <th>pc6</th>\n",
       "      <th>pc7</th>\n",
       "    </tr>\n",
       "  </thead>\n",
       "  <tbody>\n",
       "    <tr>\n",
       "      <th>0</th>\n",
       "      <td>-3.547236</td>\n",
       "      <td>1.721761</td>\n",
       "      <td>0.783004</td>\n",
       "      <td>-0.360791</td>\n",
       "      <td>-1.231114</td>\n",
       "      <td>0.822210</td>\n",
       "      <td>1.061987</td>\n",
       "      <td>0.061289</td>\n",
       "    </tr>\n",
       "    <tr>\n",
       "      <th>1</th>\n",
       "      <td>-3.491837</td>\n",
       "      <td>1.403319</td>\n",
       "      <td>0.317956</td>\n",
       "      <td>0.340913</td>\n",
       "      <td>-0.286576</td>\n",
       "      <td>0.931790</td>\n",
       "      <td>-0.094618</td>\n",
       "      <td>0.173550</td>\n",
       "    </tr>\n",
       "    <tr>\n",
       "      <th>2</th>\n",
       "      <td>1.158622</td>\n",
       "      <td>-0.929251</td>\n",
       "      <td>-1.056162</td>\n",
       "      <td>-1.541264</td>\n",
       "      <td>-0.608161</td>\n",
       "      <td>0.093138</td>\n",
       "      <td>0.262078</td>\n",
       "      <td>-0.067457</td>\n",
       "    </tr>\n",
       "    <tr>\n",
       "      <th>3</th>\n",
       "      <td>-1.063520</td>\n",
       "      <td>-1.406425</td>\n",
       "      <td>-1.349643</td>\n",
       "      <td>-1.239193</td>\n",
       "      <td>-0.427389</td>\n",
       "      <td>0.982451</td>\n",
       "      <td>0.674583</td>\n",
       "      <td>0.009827</td>\n",
       "    </tr>\n",
       "    <tr>\n",
       "      <th>4</th>\n",
       "      <td>-1.040946</td>\n",
       "      <td>-0.903774</td>\n",
       "      <td>1.199010</td>\n",
       "      <td>-1.458922</td>\n",
       "      <td>0.074867</td>\n",
       "      <td>1.750173</td>\n",
       "      <td>-0.331411</td>\n",
       "      <td>-0.050655</td>\n",
       "    </tr>\n",
       "    <tr>\n",
       "      <th>...</th>\n",
       "      <td>...</td>\n",
       "      <td>...</td>\n",
       "      <td>...</td>\n",
       "      <td>...</td>\n",
       "      <td>...</td>\n",
       "      <td>...</td>\n",
       "      <td>...</td>\n",
       "      <td>...</td>\n",
       "    </tr>\n",
       "    <tr>\n",
       "      <th>15100</th>\n",
       "      <td>-1.019800</td>\n",
       "      <td>-1.979337</td>\n",
       "      <td>-1.493230</td>\n",
       "      <td>0.281778</td>\n",
       "      <td>-0.032021</td>\n",
       "      <td>0.642453</td>\n",
       "      <td>-0.394220</td>\n",
       "      <td>0.126622</td>\n",
       "    </tr>\n",
       "    <tr>\n",
       "      <th>15101</th>\n",
       "      <td>0.623028</td>\n",
       "      <td>3.122603</td>\n",
       "      <td>-3.000952</td>\n",
       "      <td>0.522615</td>\n",
       "      <td>0.104610</td>\n",
       "      <td>-1.013185</td>\n",
       "      <td>-0.543093</td>\n",
       "      <td>0.256200</td>\n",
       "    </tr>\n",
       "    <tr>\n",
       "      <th>15102</th>\n",
       "      <td>-1.535171</td>\n",
       "      <td>2.574048</td>\n",
       "      <td>0.222870</td>\n",
       "      <td>-0.855221</td>\n",
       "      <td>0.469169</td>\n",
       "      <td>-0.250566</td>\n",
       "      <td>-1.519251</td>\n",
       "      <td>0.041214</td>\n",
       "    </tr>\n",
       "    <tr>\n",
       "      <th>15103</th>\n",
       "      <td>-3.355761</td>\n",
       "      <td>0.236572</td>\n",
       "      <td>1.047496</td>\n",
       "      <td>-0.956048</td>\n",
       "      <td>-0.363547</td>\n",
       "      <td>0.992223</td>\n",
       "      <td>-0.138939</td>\n",
       "      <td>0.039688</td>\n",
       "    </tr>\n",
       "    <tr>\n",
       "      <th>15104</th>\n",
       "      <td>-1.287853</td>\n",
       "      <td>0.355410</td>\n",
       "      <td>1.008129</td>\n",
       "      <td>0.363049</td>\n",
       "      <td>-0.965946</td>\n",
       "      <td>1.054965</td>\n",
       "      <td>0.430436</td>\n",
       "      <td>0.117819</td>\n",
       "    </tr>\n",
       "  </tbody>\n",
       "</table>\n",
       "<p>15105 rows × 8 columns</p>\n",
       "</div>"
      ],
      "text/plain": [
       "            pc0       pc1       pc2       pc3       pc4       pc5       pc6  \\\n",
       "0     -3.547236  1.721761  0.783004 -0.360791 -1.231114  0.822210  1.061987   \n",
       "1     -3.491837  1.403319  0.317956  0.340913 -0.286576  0.931790 -0.094618   \n",
       "2      1.158622 -0.929251 -1.056162 -1.541264 -0.608161  0.093138  0.262078   \n",
       "3     -1.063520 -1.406425 -1.349643 -1.239193 -0.427389  0.982451  0.674583   \n",
       "4     -1.040946 -0.903774  1.199010 -1.458922  0.074867  1.750173 -0.331411   \n",
       "...         ...       ...       ...       ...       ...       ...       ...   \n",
       "15100 -1.019800 -1.979337 -1.493230  0.281778 -0.032021  0.642453 -0.394220   \n",
       "15101  0.623028  3.122603 -3.000952  0.522615  0.104610 -1.013185 -0.543093   \n",
       "15102 -1.535171  2.574048  0.222870 -0.855221  0.469169 -0.250566 -1.519251   \n",
       "15103 -3.355761  0.236572  1.047496 -0.956048 -0.363547  0.992223 -0.138939   \n",
       "15104 -1.287853  0.355410  1.008129  0.363049 -0.965946  1.054965  0.430436   \n",
       "\n",
       "            pc7  \n",
       "0      0.061289  \n",
       "1      0.173550  \n",
       "2     -0.067457  \n",
       "3      0.009827  \n",
       "4     -0.050655  \n",
       "...         ...  \n",
       "15100  0.126622  \n",
       "15101  0.256200  \n",
       "15102  0.041214  \n",
       "15103  0.039688  \n",
       "15104  0.117819  \n",
       "\n",
       "[15105 rows x 8 columns]"
      ]
     },
     "execution_count": 2,
     "metadata": {},
     "output_type": "execute_result"
    }
   ],
   "source": [
    "xtrain = pd.read_csv('https://raw.githubusercontent.com/kunal-mallick/Wild-Blueberry-Yield/Working/Feature%20Engineering%20%26%20Feature%20Extraction/xtrain.csv')\n",
    "ytrain = pd.read_csv('https://raw.githubusercontent.com/kunal-mallick/Wild-Blueberry-Yield/Working/Feature%20Engineering%20%26%20Feature%20Extraction/ytrain.csv')\n",
    "\n",
    "xtrain"
   ]
  },
  {
   "cell_type": "code",
   "execution_count": 3,
   "metadata": {},
   "outputs": [
    {
     "data": {
      "text/html": [
       "<div>\n",
       "<style scoped>\n",
       "    .dataframe tbody tr th:only-of-type {\n",
       "        vertical-align: middle;\n",
       "    }\n",
       "\n",
       "    .dataframe tbody tr th {\n",
       "        vertical-align: top;\n",
       "    }\n",
       "\n",
       "    .dataframe thead th {\n",
       "        text-align: right;\n",
       "    }\n",
       "</style>\n",
       "<table border=\"1\" class=\"dataframe\">\n",
       "  <thead>\n",
       "    <tr style=\"text-align: right;\">\n",
       "      <th></th>\n",
       "      <th>pc0</th>\n",
       "      <th>pc1</th>\n",
       "      <th>pc2</th>\n",
       "      <th>pc3</th>\n",
       "      <th>pc4</th>\n",
       "      <th>pc5</th>\n",
       "      <th>pc6</th>\n",
       "      <th>pc7</th>\n",
       "    </tr>\n",
       "  </thead>\n",
       "  <tbody>\n",
       "    <tr>\n",
       "      <th>0</th>\n",
       "      <td>-0.792740</td>\n",
       "      <td>2.631812</td>\n",
       "      <td>1.041241</td>\n",
       "      <td>-2.456277</td>\n",
       "      <td>-0.124576</td>\n",
       "      <td>0.171591</td>\n",
       "      <td>-0.823259</td>\n",
       "      <td>-0.353735</td>\n",
       "    </tr>\n",
       "    <tr>\n",
       "      <th>1</th>\n",
       "      <td>-3.354009</td>\n",
       "      <td>-1.000444</td>\n",
       "      <td>0.447770</td>\n",
       "      <td>0.602996</td>\n",
       "      <td>-2.075589</td>\n",
       "      <td>-1.061670</td>\n",
       "      <td>0.311317</td>\n",
       "      <td>1.223598</td>\n",
       "    </tr>\n",
       "    <tr>\n",
       "      <th>2</th>\n",
       "      <td>-1.218033</td>\n",
       "      <td>-1.865566</td>\n",
       "      <td>-1.093504</td>\n",
       "      <td>0.223988</td>\n",
       "      <td>-0.918474</td>\n",
       "      <td>0.293186</td>\n",
       "      <td>-0.022155</td>\n",
       "      <td>0.267013</td>\n",
       "    </tr>\n",
       "    <tr>\n",
       "      <th>3</th>\n",
       "      <td>-0.883013</td>\n",
       "      <td>1.005650</td>\n",
       "      <td>1.362120</td>\n",
       "      <td>0.163499</td>\n",
       "      <td>1.420322</td>\n",
       "      <td>-0.972292</td>\n",
       "      <td>0.282115</td>\n",
       "      <td>0.242936</td>\n",
       "    </tr>\n",
       "    <tr>\n",
       "      <th>4</th>\n",
       "      <td>-2.970749</td>\n",
       "      <td>4.084010</td>\n",
       "      <td>2.596862</td>\n",
       "      <td>-1.414646</td>\n",
       "      <td>0.208905</td>\n",
       "      <td>0.743810</td>\n",
       "      <td>-1.186868</td>\n",
       "      <td>-0.907490</td>\n",
       "    </tr>\n",
       "    <tr>\n",
       "      <th>...</th>\n",
       "      <td>...</td>\n",
       "      <td>...</td>\n",
       "      <td>...</td>\n",
       "      <td>...</td>\n",
       "      <td>...</td>\n",
       "      <td>...</td>\n",
       "      <td>...</td>\n",
       "      <td>...</td>\n",
       "    </tr>\n",
       "    <tr>\n",
       "      <th>10189</th>\n",
       "      <td>-0.942593</td>\n",
       "      <td>1.443672</td>\n",
       "      <td>0.614865</td>\n",
       "      <td>-2.409930</td>\n",
       "      <td>0.133344</td>\n",
       "      <td>0.733941</td>\n",
       "      <td>-1.178000</td>\n",
       "      <td>-0.672553</td>\n",
       "    </tr>\n",
       "    <tr>\n",
       "      <th>10190</th>\n",
       "      <td>1.296454</td>\n",
       "      <td>0.024872</td>\n",
       "      <td>0.512759</td>\n",
       "      <td>1.001498</td>\n",
       "      <td>-0.378405</td>\n",
       "      <td>-0.195955</td>\n",
       "      <td>0.420847</td>\n",
       "      <td>-0.957130</td>\n",
       "    </tr>\n",
       "    <tr>\n",
       "      <th>10191</th>\n",
       "      <td>1.168939</td>\n",
       "      <td>-1.014786</td>\n",
       "      <td>0.709093</td>\n",
       "      <td>0.146537</td>\n",
       "      <td>1.388136</td>\n",
       "      <td>0.255838</td>\n",
       "      <td>-1.151011</td>\n",
       "      <td>0.434752</td>\n",
       "    </tr>\n",
       "    <tr>\n",
       "      <th>10192</th>\n",
       "      <td>-3.049842</td>\n",
       "      <td>2.756595</td>\n",
       "      <td>-1.198065</td>\n",
       "      <td>-1.393759</td>\n",
       "      <td>-0.257365</td>\n",
       "      <td>-0.024401</td>\n",
       "      <td>0.817477</td>\n",
       "      <td>0.427653</td>\n",
       "    </tr>\n",
       "    <tr>\n",
       "      <th>10193</th>\n",
       "      <td>1.004745</td>\n",
       "      <td>-2.776209</td>\n",
       "      <td>0.359126</td>\n",
       "      <td>-0.984207</td>\n",
       "      <td>-1.097826</td>\n",
       "      <td>0.152259</td>\n",
       "      <td>-0.108200</td>\n",
       "      <td>0.221307</td>\n",
       "    </tr>\n",
       "  </tbody>\n",
       "</table>\n",
       "<p>10194 rows × 8 columns</p>\n",
       "</div>"
      ],
      "text/plain": [
       "            pc0       pc1       pc2       pc3       pc4       pc5       pc6  \\\n",
       "0     -0.792740  2.631812  1.041241 -2.456277 -0.124576  0.171591 -0.823259   \n",
       "1     -3.354009 -1.000444  0.447770  0.602996 -2.075589 -1.061670  0.311317   \n",
       "2     -1.218033 -1.865566 -1.093504  0.223988 -0.918474  0.293186 -0.022155   \n",
       "3     -0.883013  1.005650  1.362120  0.163499  1.420322 -0.972292  0.282115   \n",
       "4     -2.970749  4.084010  2.596862 -1.414646  0.208905  0.743810 -1.186868   \n",
       "...         ...       ...       ...       ...       ...       ...       ...   \n",
       "10189 -0.942593  1.443672  0.614865 -2.409930  0.133344  0.733941 -1.178000   \n",
       "10190  1.296454  0.024872  0.512759  1.001498 -0.378405 -0.195955  0.420847   \n",
       "10191  1.168939 -1.014786  0.709093  0.146537  1.388136  0.255838 -1.151011   \n",
       "10192 -3.049842  2.756595 -1.198065 -1.393759 -0.257365 -0.024401  0.817477   \n",
       "10193  1.004745 -2.776209  0.359126 -0.984207 -1.097826  0.152259 -0.108200   \n",
       "\n",
       "            pc7  \n",
       "0     -0.353735  \n",
       "1      1.223598  \n",
       "2      0.267013  \n",
       "3      0.242936  \n",
       "4     -0.907490  \n",
       "...         ...  \n",
       "10189 -0.672553  \n",
       "10190 -0.957130  \n",
       "10191  0.434752  \n",
       "10192  0.427653  \n",
       "10193  0.221307  \n",
       "\n",
       "[10194 rows x 8 columns]"
      ]
     },
     "execution_count": 3,
     "metadata": {},
     "output_type": "execute_result"
    }
   ],
   "source": [
    "xtest = pd.read_csv('https://raw.githubusercontent.com/kunal-mallick/Wild-Blueberry-Yield/Working/Feature%20Engineering%20%26%20Feature%20Extraction/xtest.csv')\n",
    "ytest = pd.read_csv('https://raw.githubusercontent.com/kunal-mallick/Wild-Blueberry-Yield/Working/Feature%20Engineering%20%26%20Feature%20Extraction/ytest.csv')\n",
    "\n",
    "xtest"
   ]
  },
  {
   "attachments": {},
   "cell_type": "markdown",
   "metadata": {},
   "source": [
    "## Preparing Model From The Dataset"
   ]
  },
  {
   "attachments": {},
   "cell_type": "markdown",
   "metadata": {},
   "source": [
    "### Picking Model Lowest Training And Testing Difference"
   ]
  },
  {
   "cell_type": "code",
   "execution_count": 4,
   "metadata": {},
   "outputs": [],
   "source": [
    "def predict(model):\n",
    "    print('Creating Model With ' + str(model))\n",
    "    model.fit(xtrain,ytrain)\n",
    "    train_pred = model.predict(xtrain)\n",
    "    print('Training Accuracy of are Model is : ' + str(r2_score(ytrain, train_pred)))\n",
    "\n",
    "    test_pred = model.predict(xtest)\n",
    "    print('Training Accuracy of are Model is : ' + str(r2_score(ytest, test_pred)))\n",
    "\n",
    "    print('Mean Absolute Error of are Model is : ' + str(mean_absolute_error(ytest, test_pred)))\n",
    "    print('\\n')"
   ]
  },
  {
   "cell_type": "code",
   "execution_count": 5,
   "metadata": {},
   "outputs": [
    {
     "name": "stdout",
     "output_type": "stream",
     "text": [
      "Creating Model With KNeighborsRegressor()\n",
      "Training Accuracy of are Model is : 0.835318340297678\n",
      "Training Accuracy of are Model is : -3.960566067900093e+29\n",
      "Mean Absolute Error of are Model is : 948.1738247731998\n",
      "\n",
      "\n",
      "Creating Model With DecisionTreeRegressor()\n",
      "Training Accuracy of are Model is : 0.9999888373056944\n",
      "Training Accuracy of are Model is : -6.733835840050327e+29\n",
      "Mean Absolute Error of are Model is : 1208.3203818206787\n",
      "\n",
      "\n",
      "Creating Model With RandomForestRegressor()\n",
      "Training Accuracy of are Model is : 0.9677241556077482\n",
      "Training Accuracy of are Model is : -3.721638834306961e+29\n",
      "Mean Absolute Error of are Model is : 918.9711388939733\n",
      "\n",
      "\n",
      "Creating Model With BaggingRegressor(base_estimator=DecisionTreeRegressor())\n",
      "Training Accuracy of are Model is : 0.9561246495468894\n",
      "Training Accuracy of are Model is : -3.831028777323629e+29\n",
      "Mean Absolute Error of are Model is : 929.1006945936009\n",
      "\n",
      "\n",
      "Creating Model With BaggingRegressor(base_estimator=KNeighborsRegressor())\n",
      "Training Accuracy of are Model is : 0.8404475524481871\n",
      "Training Accuracy of are Model is : -3.932922374940754e+29\n",
      "Mean Absolute Error of are Model is : 946.4855568522855\n",
      "\n",
      "\n"
     ]
    }
   ],
   "source": [
    "models = [KNeighborsRegressor(), DecisionTreeRegressor(),  (), BaggingRegressor(DecisionTreeRegressor()), BaggingRegressor(KNeighborsRegressor())]\n",
    "\n",
    "for i in range(len(models)):\n",
    "    predict(models[i])"
   ]
  },
  {
   "attachments": {},
   "cell_type": "markdown",
   "metadata": {},
   "source": [
    "### Performing Hyperparameter Tuning"
   ]
  },
  {
   "cell_type": "code",
   "execution_count": 6,
   "metadata": {},
   "outputs": [],
   "source": [
    "params = {\n",
    "    'criterion' : [\"squared_error\", \"friedman_mse\", \"absolute_error\"],\n",
    "    'max_depth' : [1,2,3,4,5,6],\n",
    "    'min_samples_split' : [4,6,8,10,12],\n",
    "    'max_leaf_nodes' : [8,10,12,14,16,18],\n",
    "    'min_samples_leaf' : [1,2,3,4,5]\n",
    "}"
   ]
  },
  {
   "cell_type": "code",
   "execution_count": 8,
   "metadata": {},
   "outputs": [
    {
     "name": "stdout",
     "output_type": "stream",
     "text": [
      "Fitting 5 folds for each of 2700 candidates, totalling 13500 fits\n"
     ]
    }
   ],
   "source": [
    "grid = GridSearchCV(DecisionTreeRegressor(),param_grid=params, cv= 5 , verbose=2, n_jobs = -1)\n",
    "\n",
    "grid.fit(xtrain,ytrain)"
   ]
  },
  {
   "cell_type": "code",
   "execution_count": null,
   "metadata": {},
   "outputs": [],
   "source": [
    "grid.best_params_"
   ]
  },
  {
   "attachments": {},
   "cell_type": "markdown",
   "metadata": {},
   "source": [
    "#### Tuning Decision Tree Classifier With Bagging Classifier"
   ]
  },
  {
   "attachments": {},
   "cell_type": "markdown",
   "metadata": {},
   "source": [
    "#### Tuning Gradient Boosting Classifier"
   ]
  },
  {
   "cell_type": "code",
   "execution_count": 5,
   "metadata": {},
   "outputs": [
    {
     "name": "stdout",
     "output_type": "stream",
     "text": [
      "Creating Model With GradientBoostingRegressor()\n",
      "Training Accuracy of are Model is : 0.8096682634412466\n",
      "Training Accuracy of are Model is : -3.479311159150872e+29\n",
      "Mean Absolute Error of are Model is : 896.612721840976\n",
      "\n",
      "\n"
     ]
    }
   ],
   "source": [
    "predict(GradientBoostingRegressor())"
   ]
  },
  {
   "cell_type": "code",
   "execution_count": 6,
   "metadata": {},
   "outputs": [],
   "source": [
    "params = {\n",
    "    'loss' : ['squared_error', 'absolute_error', 'huber', 'quantile'],\n",
    "    'criterion' : ['friedman_mse', 'squared_error'],\n",
    "    'learning_rate' : [0.1,0.2,0.3,0.4,0.5],\n",
    "    'max_features' : ['auto', 'sqrt', 'log2'],\n",
    "    'n_estimators' : [1,2,3,4,5]\n",
    "    }"
   ]
  },
  {
   "cell_type": "code",
   "execution_count": 7,
   "metadata": {},
   "outputs": [],
   "source": [
    "grid = GridSearchCV(GradientBoostingRegressor(),param_grid=params, cv=3,verbose=2,n_jobs=-1)"
   ]
  },
  {
   "cell_type": "code",
   "execution_count": 8,
   "metadata": {},
   "outputs": [
    {
     "name": "stdout",
     "output_type": "stream",
     "text": [
      "Fitting 3 folds for each of 600 candidates, totalling 1800 fits\n"
     ]
    },
    {
     "data": {
      "text/plain": [
       "GridSearchCV(cv=3, estimator=GradientBoostingRegressor(), n_jobs=-1,\n",
       "             param_grid={'criterion': ['friedman_mse', 'squared_error'],\n",
       "                         'learning_rate': [0.1, 0.2, 0.3, 0.4, 0.5],\n",
       "                         'loss': ['squared_error', 'absolute_error', 'huber',\n",
       "                                  'quantile'],\n",
       "                         'max_features': ['auto', 'sqrt', 'log2'],\n",
       "                         'n_estimators': [1, 2, 3, 4, 5]},\n",
       "             verbose=2)"
      ]
     },
     "execution_count": 8,
     "metadata": {},
     "output_type": "execute_result"
    }
   ],
   "source": [
    "grid.fit(xtrain,ytrain)"
   ]
  },
  {
   "cell_type": "code",
   "execution_count": 9,
   "metadata": {},
   "outputs": [
    {
     "data": {
      "text/plain": [
       "{'criterion': 'friedman_mse',\n",
       " 'learning_rate': 0.5,\n",
       " 'loss': 'huber',\n",
       " 'max_features': 'auto',\n",
       " 'n_estimators': 5}"
      ]
     },
     "execution_count": 9,
     "metadata": {},
     "output_type": "execute_result"
    }
   ],
   "source": [
    "grid.best_params_"
   ]
  },
  {
   "cell_type": "code",
   "execution_count": 10,
   "metadata": {},
   "outputs": [
    {
     "name": "stdout",
     "output_type": "stream",
     "text": [
      "Creating Model With GradientBoostingRegressor(learning_rate=0.5, loss='huber', max_features='auto',\n",
      "                          n_estimators=5)\n",
      "Training Accuracy of are Model is : 0.7586912408688639\n",
      "Training Accuracy of are Model is : -3.115456375098378e+29\n",
      "Mean Absolute Error of are Model is : 856.8451870677442\n",
      "\n",
      "\n"
     ]
    }
   ],
   "source": [
    "predict(GradientBoostingRegressor(criterion = 'friedman_mse', learning_rate = 0.5, loss = 'huber', max_features = 'auto', n_estimators = 5))"
   ]
  },
  {
   "attachments": {},
   "cell_type": "markdown",
   "metadata": {},
   "source": [
    "#### Tuning Random Forest Classifier With Bagging Classifier"
   ]
  },
  {
   "cell_type": "code",
   "execution_count": 11,
   "metadata": {},
   "outputs": [
    {
     "name": "stdout",
     "output_type": "stream",
     "text": [
      "Creating Model With BaggingRegressor(base_estimator=RandomForestRegressor())\n",
      "Training Accuracy of are Model is : 0.9183580240586018\n",
      "Training Accuracy of are Model is : -3.643922515104686e+29\n",
      "Mean Absolute Error of are Model is : 906.9515733137472\n",
      "\n",
      "\n"
     ]
    }
   ],
   "source": [
    "predict(BaggingRegressor(RandomForestRegressor()))"
   ]
  },
  {
   "attachments": {},
   "cell_type": "markdown",
   "metadata": {},
   "source": [
    "#### Tuning Logistic Regression With AdaBoost Classifier"
   ]
  },
  {
   "attachments": {},
   "cell_type": "markdown",
   "metadata": {},
   "source": [
    "#### Tuning KNeighborsClassifier With Bagging Classifier"
   ]
  },
  {
   "attachments": {},
   "cell_type": "markdown",
   "metadata": {},
   "source": [
    "#### Tuning Voting Classifier"
   ]
  },
  {
   "attachments": {},
   "cell_type": "markdown",
   "metadata": {},
   "source": [
    "#### Tuning Stacking Classifier"
   ]
  },
  {
   "attachments": {},
   "cell_type": "markdown",
   "metadata": {},
   "source": [
    "### Creating Final Model With Hyperparameter Value"
   ]
  },
  {
   "attachments": {},
   "cell_type": "markdown",
   "metadata": {},
   "source": [
    "#### Evaluating The Model"
   ]
  },
  {
   "attachments": {},
   "cell_type": "markdown",
   "metadata": {},
   "source": [
    "##### Creating Classification Report"
   ]
  },
  {
   "attachments": {},
   "cell_type": "markdown",
   "metadata": {},
   "source": [
    "##### Comparing Training And Testing Accuracy"
   ]
  },
  {
   "attachments": {},
   "cell_type": "markdown",
   "metadata": {},
   "source": [
    "## Creating Model"
   ]
  }
 ],
 "metadata": {
  "kernelspec": {
   "display_name": "base",
   "language": "python",
   "name": "python3"
  },
  "language_info": {
   "codemirror_mode": {
    "name": "ipython",
    "version": 3
   },
   "file_extension": ".py",
   "mimetype": "text/x-python",
   "name": "python",
   "nbconvert_exporter": "python",
   "pygments_lexer": "ipython3",
   "version": "3.9.13"
  },
  "orig_nbformat": 4
 },
 "nbformat": 4,
 "nbformat_minor": 2
}
